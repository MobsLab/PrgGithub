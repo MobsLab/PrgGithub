{
 "cells": [
  {
   "cell_type": "code",
   "execution_count": 1,
   "id": "61442ae6-d83b-48fc-a1ed-450b4b9e053e",
   "metadata": {},
   "outputs": [
    {
     "name": "stderr",
     "output_type": "stream",
     "text": [
      "/home/pinky/anaconda3/envs/allenSDK_env/lib/python3.10/site-packages/tqdm/auto.py:21: TqdmWarning: IProgress not found. Please update jupyter and ipywidgets. See https://ipywidgets.readthedocs.io/en/stable/user_install.html\n",
      "  from .autonotebook import tqdm as notebook_tqdm\n"
     ]
    },
    {
     "name": "stdout",
     "output_type": "stream",
     "text": [
      "Initializing EcephysProjectCache...\n",
      "Cache initialized.\n",
      "Fetching session table from AllenSDK (this might take a moment)...\n",
      "Fetched 58 sessions.\n",
      "Saving session table to: /home/pinky/PSTH_VisualData/ecephys_sessions_table.csv\n",
      "Session table saved.\n"
     ]
    }
   ],
   "source": [
    "import os\n",
    "import pandas as pd\n",
    "from pathlib import Path\n",
    "from allensdk.brain_observatory.ecephys.ecephys_project_cache import EcephysProjectCache\n",
    "\n",
    "# --- Configuration ---\n",
    "BASE_CACHE_DIR = Path(\"/home/pinky/PSTH_VisualData/\")\n",
    "MANIFEST_PATH = str(BASE_CACHE_DIR / \"manifest.json\")\n",
    "SAVED_SESSIONS_TABLE_PATH = BASE_CACHE_DIR / \"ecephys_sessions_table.csv\" # Or .pkl\n",
    "\n",
    "# Ensure cache directory exists\n",
    "if not BASE_CACHE_DIR.exists():\n",
    "    print(f\"Creating cache directory: {BASE_CACHE_DIR}\")\n",
    "    BASE_CACHE_DIR.mkdir(parents=True, exist_ok=True)\n",
    "\n",
    "print(\"Initializing EcephysProjectCache...\")\n",
    "try:\n",
    "    # This will download manifest.json if it doesn't exist or needs update\n",
    "    cache = EcephysProjectCache.from_warehouse(manifest=MANIFEST_PATH)\n",
    "    print(\"Cache initialized.\")\n",
    "\n",
    "    print(\"Fetching session table from AllenSDK (this might take a moment)...\")\n",
    "    sessions_df = cache.get_session_table()\n",
    "    print(f\"Fetched {len(sessions_df)} sessions.\")\n",
    "\n",
    "    print(f\"Saving session table to: {SAVED_SESSIONS_TABLE_PATH}\")\n",
    "    # You can save as CSV or pickle. Pickle preserves data types better.\n",
    "    sessions_df.to_csv(SAVED_SESSIONS_TABLE_PATH)\n",
    "    # Or: sessions_df.to_pickle(SAVED_SESSIONS_TABLE_PATH.with_suffix('.pkl'))\n",
    "    print(\"Session table saved.\")\n",
    "\n",
    "except Exception as e:\n",
    "    print(f\"Error during initial setup: {e}\")\n",
    "    print(\"Please ensure your internet connection is active if this is the first run,\")\n",
    "    print(\"and the cache directory is writable.\")"
   ]
  },
  {
   "cell_type": "code",
   "execution_count": null,
   "id": "3efa67c1-2a6f-4259-9c9b-cc39f3e8e5ed",
   "metadata": {},
   "outputs": [],
   "source": []
  }
 ],
 "metadata": {
  "kernelspec": {
   "display_name": "Python 3 (ipykernel)",
   "language": "python",
   "name": "python3"
  },
  "language_info": {
   "codemirror_mode": {
    "name": "ipython",
    "version": 3
   },
   "file_extension": ".py",
   "mimetype": "text/x-python",
   "name": "python",
   "nbconvert_exporter": "python",
   "pygments_lexer": "ipython3",
   "version": "3.10.17"
  }
 },
 "nbformat": 4,
 "nbformat_minor": 5
}

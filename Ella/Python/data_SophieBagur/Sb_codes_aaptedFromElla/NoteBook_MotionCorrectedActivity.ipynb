{
 "cells": [
  {
   "cell_type": "markdown",
   "id": "aca919bc-a374-447c-b0f5-2dad0c143d02",
   "metadata": {},
   "source": [
    "# "
   ]
  },
  {
   "cell_type": "code",
   "execution_count": 2,
   "id": "0dc83a58-e9d4-4f24-896d-95669fbd1ca9",
   "metadata": {},
   "outputs": [],
   "source": [
    "#!/usr/bin/env python3\n",
    "# -*- coding: utf-8 -*-\n",
    "\"\"\"\n",
    "Created on Fri Jan 24 15:44:46 2025\n",
    "\n",
    "@author: gruffalo\n",
    "\"\"\"\n",
    "\n",
    "# %% Set working directory\n",
    "import os\n",
    "os.chdir(r'/home/pinky/Documents/PrgGithub/Ella/Python/data_SophieBagur')\n",
    "\n",
    "# import scipy.io\n",
    "from load_save_results import ( \n",
    "    load_results\n",
    "    )\n",
    "from joblib import load\n",
    "from preprocess_sort_data import (\n",
    "    rebin_mice_data,\n",
    "    normalize_data\n",
    "    )\n",
    "from analyse_data import (\n",
    "    spike_count_all_mice,\n",
    "    )\n",
    "from preprocess_linear_model import (\n",
    "    combine_mouse_data\n",
    "    )\n",
    "from analyse_ln_corrected_TC import (\n",
    "    predict_all_neurons,\n",
    "    correct_predictions,\n",
    "    correct_combined_data\n",
    "    )\n",
    "from plot_ln_corrected_TC import (\n",
    "    # plot_predictions_trace,\n",
    "    plot_tuning_curve,\n",
    "    plot_tuning_curve_heatmap,\n",
    "    plot_mean_correction\n",
    "    )\n",
    "from fit_linear_nonlinear_model import (\n",
    "    process_neuron\n",
    "    )\n",
    "from save_plots import (\n",
    "    save_plot_as_svg\n",
    "    )"
   ]
  },
  {
   "cell_type": "code",
   "execution_count": 3,
   "id": "92da1afb-b9f3-4bb1-bf81-9cfceba91fd9",
   "metadata": {},
   "outputs": [
    {
     "name": "stdout",
     "output_type": "stream",
     "text": [
      "Data loaded successfully from /media/DataMOBsRAIDN/ProjectEmbReact/Data_ella/maze_denoised_data.pkl.\n",
      "Data loaded successfully from /media/DataMOBsRAIDN/ProjectEmbReact/Data_ella/maze_spike_times_data.pkl.\n",
      "Column 'Heartrate' contains only NaN values. Skipping...\n"
     ]
    },
    {
     "name": "stderr",
     "output_type": "stream",
     "text": [
      "/home/pinky/anaconda3/envs/sophie_basic/lib/python3.13/site-packages/sklearn/base.py:440: InconsistentVersionWarning: Trying to unpickle estimator LinearRegression from version 1.6.0 when using version 1.7.0. This might lead to breaking code or invalid results. Use at your own risk. For more info please refer to:\n",
      "https://scikit-learn.org/stable/model_persistence.html#security-maintainability-limitations\n",
      "  warnings.warn(\n",
      "/home/pinky/anaconda3/envs/sophie_basic/lib/python3.13/site-packages/sklearn/base.py:440: InconsistentVersionWarning: Trying to unpickle estimator Pipeline from version 1.6.0 when using version 1.7.0. This might lead to breaking code or invalid results. Use at your own risk. For more info please refer to:\n",
      "https://scikit-learn.org/stable/model_persistence.html#security-maintainability-limitations\n",
      "  warnings.warn(\n"
     ]
    },
    {
     "name": "stdout",
     "output_type": "stream",
     "text": [
      "Combining data for mouse Mouse509...\n",
      "Excluded columns: Mouse509, []\n",
      "Combining data for mouse Mouse490...\n",
      "Excluded columns: Mouse490, ['Heartrate']\n",
      "Combining data for mouse Mouse508...\n",
      "Excluded columns: Mouse508, []\n",
      "Combining data for mouse Mouse507...\n",
      "Excluded columns: Mouse507, []\n",
      "Combining data for mouse Mouse512...\n",
      "Excluded columns: Mouse512, ['Heartrate']\n",
      "Combining data for mouse Mouse510...\n",
      "Excluded columns: Mouse510, []\n",
      "Combining data for mouse Mouse514...\n",
      "Excluded columns: Mouse514, ['Heartrate']\n",
      "Combining data for mouse Mouse509...\n",
      "Excluded columns: Mouse509, []\n",
      "Combining data for mouse Mouse490...\n",
      "Excluded columns: Mouse490, ['Heartrate']\n",
      "Combining data for mouse Mouse508...\n",
      "Excluded columns: Mouse508, []\n",
      "Combining data for mouse Mouse507...\n",
      "Excluded columns: Mouse507, []\n",
      "Combining data for mouse Mouse512...\n",
      "Excluded columns: Mouse512, ['Heartrate']\n",
      "Combining data for mouse Mouse510...\n",
      "Excluded columns: Mouse510, []\n",
      "Combining data for mouse Mouse514...\n",
      "Excluded columns: Mouse514, ['Heartrate']\n"
     ]
    }
   ],
   "source": [
    "# %% Load data and results\n",
    "\n",
    "load_path = r'/media/DataMOBsRAIDN/ProjectEmbReact/Data_ella/'\n",
    "figures_directory = load_path + 'figures/corrected_TC'\n",
    "\n",
    "maze_denoised_data = load_results(load_path + 'maze_denoised_data.pkl')\n",
    "maze_spike_times_data = load_results(load_path + 'maze_spike_times_data.pkl')\n",
    "\n",
    "# Rebin data\n",
    "new_bin_size = 0.6\n",
    "maze_rebinned_data = rebin_mice_data(maze_denoised_data, ['BreathFreq', 'Heartrate', 'Accelero', 'Speed', 'LinPos'], new_bin_size)\n",
    "maze_rebinned_normalized_data = normalize_data(maze_rebinned_data, ['BreathFreq', 'Heartrate', 'Accelero', 'Speed', 'LinPos'])\n",
    "\n",
    "# Compute spike counts\n",
    "spike_counts = spike_count_all_mice(maze_rebinned_data, maze_spike_times_data)\n",
    "\n",
    "# results_ln_loaded = load_results(load_path + 'results_ln_model_rs30.pkl')\n",
    "results_ln_loaded = load(load_path + 'all_results_ln_model_rs30.joblib')\n",
    "\n",
    "combined_data = combine_mouse_data(spike_counts, \n",
    "                                   maze_rebinned_normalized_data, drop_na=True)\n",
    "\n",
    "combined_data_raw = combine_mouse_data(spike_counts, maze_rebinned_data, drop_na=True)\n",
    "\n",
    "# %% Compute the predictions on all the dataset\n",
    "\n",
    "predicted = predict_all_neurons(results_ln_loaded, combined_data, ['motion'])\n",
    "\n",
    "# plot_predictions_trace(predicted, 'Mouse508', 'Neuron_16', 'motion')\n",
    "\n",
    "# %% Substract the predictions to correct the data\n",
    "\n",
    "corrected_motion = correct_predictions(predicted, 'motion')"
   ]
  },
  {
   "cell_type": "code",
   "execution_count": 73,
   "id": "3bd4688c-ae8a-4c37-8e30-7435fcedc7a4",
   "metadata": {},
   "outputs": [],
   "source": [
    "import numpy as np\n",
    "#corrected_motion[0]['Correction']\n",
    "#np.save(\"combined_data\",combined_data)\n",
    "#np.save(\"corrected_motion\",corrected_motion)\n",
    "data = corrected_motion\n",
    "# Extract Mouse IDs as integers\n",
    "MouseID = np.array([int(d['Mouse_ID'].replace('Mouse', '')) for d in data])\n",
    "\n",
    "# Extract Neuron numbers as integers\n",
    "NeuronNum = np.array([int(d['Neuron_ID'].replace('Neuron_', '')) for d in data])\n",
    "\n",
    "# Stack Corrections into a single 2D NumPy array\n",
    "# Find the max length\n",
    "max_len = max(len(d['Correction']) for d in data)\n",
    "\n",
    "# Pad with NaNs\n",
    "CorrectedData = np.full((len(data), max_len), np.nan)\n",
    "for i, d in enumerate(data):\n",
    "    length = len(d['Correction'])\n",
    "    CorrectedData[i, :length] = d['Correction']\n",
    "\n",
    "dfs = list(combined_data.values())   # list of DataFrames\n",
    "\n",
    "# Get the maximum number of timebins\n",
    "max_len = max(len(df) for df in dfs)\n",
    "\n",
    "# Allocate padded array\n",
    "TimeBinsArray = np.full((len(dfs), max_len), np.nan)\n",
    "\n",
    "for i, df in enumerate(dfs):\n",
    "    timebins = df.index.values         # index contains the timebins\n",
    "    TimeBinsArray[i, :len(timebins)] = timebins\n",
    "\n",
    "\n",
    "  \n",
    "np.save(\"corrected_motion_timebins\",TimeBinsArray)\n",
    "np.save(\"corrected_motion_data\",CorrectedData)\n",
    "np.save(\"corrected_motion_mouseID\",MouseID)\n",
    "np.save(\"corrected_motion_neuronNum\",NeuronNum)"
   ]
  },
  {
   "cell_type": "code",
   "execution_count": 72,
   "id": "ba7bb703-5674-4b9b-b802-a3a291f49c52",
   "metadata": {},
   "outputs": [
    {
     "name": "stdout",
     "output_type": "stream",
     "text": [
      "(7, 4746)\n"
     ]
    }
   ],
   "source": [
    "dfs = list(combined_data.values())   # list of DataFrames\n",
    "\n",
    "# Get the maximum number of timebins\n",
    "max_len = max(len(df) for df in dfs)\n",
    "\n",
    "# Allocate padded array\n",
    "TimeBinsArray = np.full((len(dfs), max_len), np.nan)\n",
    "\n",
    "for i, df in enumerate(dfs):\n",
    "    timebins = df.index.values         # index contains the timebins\n",
    "    TimeBinsArray[i, :len(timebins)] = timebins\n",
    "\n",
    "\n"
   ]
  },
  {
   "cell_type": "markdown",
   "id": "21190447-557d-4476-81e5-371931e413bf",
   "metadata": {},
   "source": [
    "# "
   ]
  },
  {
   "cell_type": "code",
   "execution_count": 47,
   "id": "ff4fdb67-6aa2-4729-a79f-8470a104f859",
   "metadata": {},
   "outputs": [
    {
     "data": {
      "text/plain": [
       "pandas.core.frame.DataFrame"
      ]
     },
     "execution_count": 47,
     "metadata": {},
     "output_type": "execute_result"
    }
   ],
   "source": [
    "\n",
    "\n",
    "\n",
    "# Allocate a padded NumPy array\n",
    "TimeBinsArray = np.full((len(dfs), max_len), np.nan)\n",
    "\n",
    "# Fill each row with that mouse's timebins\n",
    "for i, df in enumerate(dfs):\n",
    "    timebins = df['timebins'].values  # NumPy array\n",
    "    TimeBinsArray[i, :len(timebins)] = timebins\n",
    "\n",
    "# Also extract the mouse IDs to keep track\n",
    "mouse_ids = list(combined_data.keys())\n",
    "\n",
    "print(TimeBinsArray.shape)\n",
    "print(mouse_ids)"
   ]
  }
 ],
 "metadata": {
  "kernelspec": {
   "display_name": "Python 3 (ipykernel)",
   "language": "python",
   "name": "python3"
  },
  "language_info": {
   "codemirror_mode": {
    "name": "ipython",
    "version": 3
   },
   "file_extension": ".py",
   "mimetype": "text/x-python",
   "name": "python",
   "nbconvert_exporter": "python",
   "pygments_lexer": "ipython3",
   "version": "3.13.3"
  }
 },
 "nbformat": 4,
 "nbformat_minor": 5
}
